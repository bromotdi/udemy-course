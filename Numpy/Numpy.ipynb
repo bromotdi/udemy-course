{
 "cells": [
  {
   "cell_type": "markdown",
   "id": "55859629-35a6-44a4-91f6-3bf8ef9a8ee3",
   "metadata": {},
   "source": [
    "## One Dimension Array"
   ]
  },
  {
   "cell_type": "code",
   "execution_count": 3,
   "id": "8f03515e",
   "metadata": {},
   "outputs": [],
   "source": [
    "import numpy as np"
   ]
  },
  {
   "cell_type": "code",
   "execution_count": 2,
   "id": "edd694b1",
   "metadata": {},
   "outputs": [
    {
     "data": {
      "text/plain": [
       "array([1, 2, 3, 4])"
      ]
     },
     "execution_count": 2,
     "metadata": {},
     "output_type": "execute_result"
    }
   ],
   "source": [
    "nums_array = np.array([1,2,3,4])\n",
    "nums_array"
   ]
  },
  {
   "cell_type": "code",
   "execution_count": 3,
   "id": "4a4d8325",
   "metadata": {},
   "outputs": [
    {
     "data": {
      "text/plain": [
       "numpy.ndarray"
      ]
     },
     "execution_count": 3,
     "metadata": {},
     "output_type": "execute_result"
    }
   ],
   "source": [
    "type(nums_array)"
   ]
  },
  {
   "cell_type": "code",
   "execution_count": 5,
   "id": "45c49eb1-226c-4ee7-86be-f9120431be24",
   "metadata": {
    "tags": []
   },
   "outputs": [
    {
     "data": {
      "text/plain": [
       "4"
      ]
     },
     "execution_count": 5,
     "metadata": {},
     "output_type": "execute_result"
    }
   ],
   "source": [
    "nums_array[-1]"
   ]
  },
  {
   "cell_type": "code",
   "execution_count": 6,
   "id": "915c1570",
   "metadata": {},
   "outputs": [
    {
     "data": {
      "text/plain": [
       "(4,)"
      ]
     },
     "execution_count": 6,
     "metadata": {},
     "output_type": "execute_result"
    }
   ],
   "source": [
    "nums_array.shape # кортеж с размерностью массива"
   ]
  },
  {
   "cell_type": "code",
   "execution_count": 7,
   "id": "0a42aa3d",
   "metadata": {},
   "outputs": [
    {
     "data": {
      "text/plain": [
       "1"
      ]
     },
     "execution_count": 7,
     "metadata": {},
     "output_type": "execute_result"
    }
   ],
   "source": [
    "nums_array.ndim # размерность массива"
   ]
  },
  {
   "cell_type": "code",
   "execution_count": 8,
   "id": "2c98a9c5",
   "metadata": {},
   "outputs": [
    {
     "data": {
      "text/plain": [
       "4"
      ]
     },
     "execution_count": 8,
     "metadata": {},
     "output_type": "execute_result"
    }
   ],
   "source": [
    "nums_array.size # колличество елементов"
   ]
  },
  {
   "cell_type": "code",
   "execution_count": 9,
   "id": "957d261f-827d-4075-acb3-ca057d099000",
   "metadata": {
    "tags": []
   },
   "outputs": [
    {
     "data": {
      "text/plain": [
       "array(['True', '2', 'abc', '4.4'], dtype='<U32')"
      ]
     },
     "execution_count": 9,
     "metadata": {},
     "output_type": "execute_result"
    }
   ],
   "source": [
    "str_array = np.array([True,2,'abc',4.4]) # приводит к одному типу\n",
    "str_array"
   ]
  },
  {
   "cell_type": "code",
   "execution_count": 11,
   "id": "83800834-d9a4-4e01-9430-32ac47dd0cbe",
   "metadata": {
    "tags": []
   },
   "outputs": [
    {
     "data": {
      "text/plain": [
       "array([{'city': 'London'}, {'city': 'Berlin'}], dtype=object)"
      ]
     },
     "execution_count": 11,
     "metadata": {},
     "output_type": "execute_result"
    }
   ],
   "source": [
    "obj_array = np.array([{'city':'London'},{'city':'Berlin'}]) # приводит к одному типу\n",
    "obj_array"
   ]
  },
  {
   "cell_type": "markdown",
   "id": "52b27007-0896-401b-8689-5d0aa98a7772",
   "metadata": {},
   "source": [
    "## Two Dimension Array"
   ]
  },
  {
   "cell_type": "code",
   "execution_count": 30,
   "id": "90c947c0-5d85-4fa0-9fdc-769416f27f7d",
   "metadata": {
    "tags": []
   },
   "outputs": [
    {
     "data": {
      "text/plain": [
       "array([[1, 2, 3],\n",
       "       [3, 4, 5]])"
      ]
     },
     "execution_count": 30,
     "metadata": {},
     "output_type": "execute_result"
    }
   ],
   "source": [
    "first = np.array([[1,2,3], [3,4,5]])\n",
    "first"
   ]
  },
  {
   "cell_type": "code",
   "execution_count": 18,
   "id": "79e55e90-00f5-4801-9f06-95f3e76b804a",
   "metadata": {
    "tags": []
   },
   "outputs": [
    {
     "data": {
      "text/plain": [
       "(2, 3)"
      ]
     },
     "execution_count": 18,
     "metadata": {},
     "output_type": "execute_result"
    }
   ],
   "source": [
    "first.shape"
   ]
  },
  {
   "cell_type": "code",
   "execution_count": 19,
   "id": "c7fe4245-a0c0-497e-95ea-e375f24f681c",
   "metadata": {
    "tags": []
   },
   "outputs": [
    {
     "data": {
      "text/plain": [
       "2"
      ]
     },
     "execution_count": 19,
     "metadata": {},
     "output_type": "execute_result"
    }
   ],
   "source": [
    "first.ndim"
   ]
  },
  {
   "cell_type": "code",
   "execution_count": 20,
   "id": "2cf859d5-dba8-4563-95ea-f07a617a6364",
   "metadata": {
    "tags": []
   },
   "outputs": [
    {
     "data": {
      "text/plain": [
       "array([[7, 2, 3],\n",
       "       [9, 4, 5]])"
      ]
     },
     "execution_count": 20,
     "metadata": {},
     "output_type": "execute_result"
    }
   ],
   "source": [
    "second = np.array([[7,2,3], [9,4,5]])\n",
    "second"
   ]
  },
  {
   "cell_type": "code",
   "execution_count": 21,
   "id": "b1bbeaee-cd94-4dce-9ecd-354b1f36a3b7",
   "metadata": {
    "tags": []
   },
   "outputs": [
    {
     "data": {
      "text/plain": [
       "array([[ 8,  4,  6],\n",
       "       [12,  8, 10]])"
      ]
     },
     "execution_count": 21,
     "metadata": {},
     "output_type": "execute_result"
    }
   ],
   "source": [
    "first + second"
   ]
  },
  {
   "cell_type": "code",
   "execution_count": 31,
   "id": "d85a6465-c78e-4539-8dfa-d5abbe47d77d",
   "metadata": {
    "tags": []
   },
   "outputs": [
    {
     "data": {
      "text/plain": [
       "array([[2, 3, 4],\n",
       "       [4, 5, 6]])"
      ]
     },
     "execution_count": 31,
     "metadata": {},
     "output_type": "execute_result"
    }
   ],
   "source": [
    "#создается массив с аналогичным размером и одиничными елементами\n",
    "\n",
    "first = first + 1\n",
    "first"
   ]
  },
  {
   "cell_type": "code",
   "execution_count": 32,
   "id": "5843a21d-b5d5-4a22-91a8-87b7e98f86fc",
   "metadata": {
    "tags": []
   },
   "outputs": [
    {
     "data": {
      "text/plain": [
       "24"
      ]
     },
     "execution_count": 32,
     "metadata": {},
     "output_type": "execute_result"
    }
   ],
   "source": [
    "np.sum(first)"
   ]
  },
  {
   "cell_type": "code",
   "execution_count": 33,
   "id": "536fa962-c3de-4d96-9b72-362a677c60e1",
   "metadata": {
    "tags": []
   },
   "outputs": [
    {
     "data": {
      "text/plain": [
       "array([ 6,  8, 10])"
      ]
     },
     "execution_count": 33,
     "metadata": {},
     "output_type": "execute_result"
    }
   ],
   "source": [
    "np.sum(first, axis=0) # суммирование по вертикале "
   ]
  },
  {
   "cell_type": "code",
   "execution_count": 34,
   "id": "1e16f5e4-8d95-431e-9188-107bc4e68e78",
   "metadata": {
    "tags": []
   },
   "outputs": [
    {
     "data": {
      "text/plain": [
       "array([ 9, 15])"
      ]
     },
     "execution_count": 34,
     "metadata": {},
     "output_type": "execute_result"
    }
   ],
   "source": [
    "np.sum(first, axis=1) # суммирование по горизонтале"
   ]
  },
  {
   "cell_type": "code",
   "execution_count": 35,
   "id": "05d1d534-38e0-4028-8bfd-ff3a6c1bd4c9",
   "metadata": {
    "tags": []
   },
   "outputs": [
    {
     "data": {
      "text/plain": [
       "array([3., 4., 5.])"
      ]
     },
     "execution_count": 35,
     "metadata": {},
     "output_type": "execute_result"
    }
   ],
   "source": [
    "np.mean(first, axis=0)"
   ]
  },
  {
   "cell_type": "code",
   "execution_count": 38,
   "id": "e3f7085e-bc6d-4377-82d6-f6549e74cafa",
   "metadata": {
    "tags": []
   },
   "outputs": [
    {
     "data": {
      "text/plain": [
       "array([4, 6])"
      ]
     },
     "execution_count": 38,
     "metadata": {},
     "output_type": "execute_result"
    }
   ],
   "source": [
    "np.max(first, axis=1)"
   ]
  },
  {
   "cell_type": "markdown",
   "id": "d3fa6aa7-2037-46d2-876b-9aff88bba8e5",
   "metadata": {},
   "source": [
    "## Three Dimension Array"
   ]
  },
  {
   "cell_type": "code",
   "execution_count": 44,
   "id": "17982ee7-a501-491a-988f-af516d3be87f",
   "metadata": {
    "tags": []
   },
   "outputs": [],
   "source": [
    "companies = ['Google', 'Microsoft', 'Apple']\n",
    "days = ['Mon 1 April', 'Tue 2 April']\n",
    "price_types = ['Open', 'Close', 'High', 'Low']"
   ]
  },
  {
   "cell_type": "code",
   "execution_count": 47,
   "id": "a591391e-e60c-4d21-98f1-bcae3f1ec320",
   "metadata": {
    "tags": []
   },
   "outputs": [
    {
     "data": {
      "text/plain": [
       "array([[[0.417, 0.72 , 0.   , 0.302],\n",
       "        [0.147, 0.092, 0.186, 0.346]],\n",
       "\n",
       "       [[0.397, 0.539, 0.419, 0.685],\n",
       "        [0.204, 0.878, 0.027, 0.67 ]],\n",
       "\n",
       "       [[0.417, 0.559, 0.14 , 0.198],\n",
       "        [0.801, 0.968, 0.313, 0.692]]])"
      ]
     },
     "execution_count": 47,
     "metadata": {},
     "output_type": "execute_result"
    }
   ],
   "source": [
    "# shape will be (3,2,4)\n",
    "\n",
    "np.random.seed(1)\n",
    "stock_prices = np.round(np.random.random((len(companies), len(days), len(price_types))),3)\n",
    "stock_prices"
   ]
  },
  {
   "cell_type": "code",
   "execution_count": 48,
   "id": "959a9bc6-21f7-4122-b165-3fffd756bac7",
   "metadata": {
    "tags": []
   },
   "outputs": [
    {
     "data": {
      "text/plain": [
       "(3, 2, 4)"
      ]
     },
     "execution_count": 48,
     "metadata": {},
     "output_type": "execute_result"
    }
   ],
   "source": [
    "stock_prices.shape"
   ]
  },
  {
   "cell_type": "code",
   "execution_count": 53,
   "id": "c7667730-e807-4144-ac28-7e7d3ae5eaef",
   "metadata": {
    "tags": []
   },
   "outputs": [
    {
     "name": "stdout",
     "output_type": "stream",
     "text": [
      "Stock prices for the Google\n",
      "Day: Mon 1 April\n",
      "Open Price: 0.417\n",
      "Close Price: 0.72\n",
      "High Price: 0.0\n",
      "Low Price: 0.302\n",
      "\n",
      "Day: Tue 2 April\n",
      "Open Price: 0.147\n",
      "Close Price: 0.092\n",
      "High Price: 0.186\n",
      "Low Price: 0.346\n",
      "\n",
      "\n",
      "Stock prices for the Microsoft\n",
      "Day: Mon 1 April\n",
      "Open Price: 0.397\n",
      "Close Price: 0.539\n",
      "High Price: 0.419\n",
      "Low Price: 0.685\n",
      "\n",
      "Day: Tue 2 April\n",
      "Open Price: 0.204\n",
      "Close Price: 0.878\n",
      "High Price: 0.027\n",
      "Low Price: 0.67\n",
      "\n",
      "\n",
      "Stock prices for the Apple\n",
      "Day: Mon 1 April\n",
      "Open Price: 0.417\n",
      "Close Price: 0.559\n",
      "High Price: 0.14\n",
      "Low Price: 0.198\n",
      "\n",
      "Day: Tue 2 April\n",
      "Open Price: 0.801\n",
      "Close Price: 0.968\n",
      "High Price: 0.313\n",
      "Low Price: 0.692\n",
      "\n",
      "\n"
     ]
    }
   ],
   "source": [
    "for index_axis_0, company in enumerate(companies):\n",
    "    print(f\"Stock prices for the {company}\")\n",
    "    for index_axis_1, day in enumerate(days):\n",
    "        print(f\"Day: {day}\")\n",
    "        for index_axis_2, price_type in enumerate(price_types):\n",
    "            print(f\"{price_type} Price: {stock_prices[index_axis_0,index_axis_1,index_axis_2]}\")\n",
    "        print(\"\")\n",
    "    print(\"\")"
   ]
  },
  {
   "cell_type": "markdown",
   "id": "e9905e82-0700-4865-94b0-7eecd0f580ee",
   "metadata": {},
   "source": [
    "## Array Axis"
   ]
  },
  {
   "cell_type": "code",
   "execution_count": 23,
   "id": "922c7d3c-d1fe-4147-910d-5b747f0e86bb",
   "metadata": {
    "tags": []
   },
   "outputs": [
    {
     "data": {
      "text/plain": [
       "4"
      ]
     },
     "execution_count": 23,
     "metadata": {},
     "output_type": "execute_result"
    }
   ],
   "source": [
    "first[1,1]"
   ]
  },
  {
   "cell_type": "code",
   "execution_count": 25,
   "id": "da79d45a-09b4-40bd-9591-a36a57282eca",
   "metadata": {
    "tags": []
   },
   "outputs": [
    {
     "data": {
      "text/plain": [
       "array([[1, 2, 3],\n",
       "       [3, 4, 5],\n",
       "       [7, 2, 3],\n",
       "       [9, 4, 5]])"
      ]
     },
     "execution_count": 25,
     "metadata": {},
     "output_type": "execute_result"
    }
   ],
   "source": [
    "np.concatenate((first,second)) # кортеж массивов, по умолчанию слияние масссивов происходит по оси 0"
   ]
  },
  {
   "cell_type": "code",
   "execution_count": 26,
   "id": "7388cb7c-53bb-4500-b1d8-2e44b89fb5a9",
   "metadata": {
    "tags": []
   },
   "outputs": [
    {
     "data": {
      "text/plain": [
       "array([[1, 2, 3, 7, 2, 3],\n",
       "       [3, 4, 5, 9, 4, 5]])"
      ]
     },
     "execution_count": 26,
     "metadata": {},
     "output_type": "execute_result"
    }
   ],
   "source": [
    "np.concatenate((first,second), axis=1)"
   ]
  },
  {
   "cell_type": "code",
   "execution_count": 29,
   "id": "9aeec74a-438c-4076-99a6-58fa24a9fd0c",
   "metadata": {
    "tags": []
   },
   "outputs": [
    {
     "data": {
      "text/plain": [
       "array([1, 2, 3, 4, 5, 6])"
      ]
     },
     "execution_count": 29,
     "metadata": {},
     "output_type": "execute_result"
    }
   ],
   "source": [
    "np.concatenate((np.array([1,2,3]),np.array([4,5,6])))"
   ]
  },
  {
   "cell_type": "code",
   "execution_count": 30,
   "id": "62148d59-4408-4b37-9b44-c9f0b17bd26e",
   "metadata": {
    "tags": []
   },
   "outputs": [
    {
     "ename": "AxisError",
     "evalue": "axis 1 is out of bounds for array of dimension 1",
     "output_type": "error",
     "traceback": [
      "\u001b[0;31m---------------------------------------------------------------------------\u001b[0m",
      "\u001b[0;31mAxisError\u001b[0m                                 Traceback (most recent call last)",
      "Cell \u001b[0;32mIn[30], line 1\u001b[0m\n\u001b[0;32m----> 1\u001b[0m np\u001b[38;5;241m.\u001b[39mconcatenate((np\u001b[38;5;241m.\u001b[39marray([\u001b[38;5;241m1\u001b[39m,\u001b[38;5;241m2\u001b[39m,\u001b[38;5;241m3\u001b[39m]),np\u001b[38;5;241m.\u001b[39marray([\u001b[38;5;241m4\u001b[39m,\u001b[38;5;241m5\u001b[39m,\u001b[38;5;241m6\u001b[39m])), axis\u001b[38;5;241m=\u001b[39m\u001b[38;5;241m1\u001b[39m)\n",
      "File \u001b[0;32m<__array_function__ internals>:200\u001b[0m, in \u001b[0;36mconcatenate\u001b[0;34m(*args, **kwargs)\u001b[0m\n",
      "\u001b[0;31mAxisError\u001b[0m: axis 1 is out of bounds for array of dimension 1"
     ]
    }
   ],
   "source": [
    "np.concatenate((np.array([1,2,3]),np.array([4,5,6])), axis=1)"
   ]
  },
  {
   "cell_type": "code",
   "execution_count": 33,
   "id": "b81ad47d-debd-45ff-809b-18fb72dbf58d",
   "metadata": {
    "tags": []
   },
   "outputs": [
    {
     "data": {
      "text/plain": [
       "array([[0., 0., 0., 0.],\n",
       "       [0., 0., 0., 0.],\n",
       "       [0., 0., 0., 0.]])"
      ]
     },
     "execution_count": 33,
     "metadata": {},
     "output_type": "execute_result"
    }
   ],
   "source": [
    "np.zeros((3,4)) #заполнение массива нулями"
   ]
  },
  {
   "cell_type": "markdown",
   "id": "6a6c8402-43e0-4b65-b48f-d066c2a43f20",
   "metadata": {},
   "source": [
    "## Random"
   ]
  },
  {
   "cell_type": "code",
   "execution_count": 35,
   "id": "33cdd363-79c4-47d1-ab6a-f5c7dc2cff26",
   "metadata": {
    "tags": []
   },
   "outputs": [
    {
     "data": {
      "text/plain": [
       "array([[False, False, False, False],\n",
       "       [False, False, False, False],\n",
       "       [False, False, False, False]])"
      ]
     },
     "execution_count": 35,
     "metadata": {},
     "output_type": "execute_result"
    }
   ],
   "source": [
    "np.zeros((3,4),dtype=bool)"
   ]
  },
  {
   "cell_type": "code",
   "execution_count": 36,
   "id": "28260433-d2b3-446a-956a-3e8a08780157",
   "metadata": {
    "tags": []
   },
   "outputs": [
    {
     "data": {
      "text/plain": [
       "array([[1., 1., 1.],\n",
       "       [1., 1., 1.],\n",
       "       [1., 1., 1.],\n",
       "       [1., 1., 1.],\n",
       "       [1., 1., 1.]])"
      ]
     },
     "execution_count": 36,
     "metadata": {},
     "output_type": "execute_result"
    }
   ],
   "source": [
    "np.ones((5,3)) #заполнение массива единицами"
   ]
  },
  {
   "cell_type": "code",
   "execution_count": 37,
   "id": "d259aa9c-c59d-4916-ac8a-0aa1a79418a5",
   "metadata": {
    "tags": []
   },
   "outputs": [],
   "source": [
    "import random"
   ]
  },
  {
   "cell_type": "code",
   "execution_count": 39,
   "id": "99392c81-deeb-43ed-9108-833a70296054",
   "metadata": {
    "tags": []
   },
   "outputs": [
    {
     "data": {
      "text/plain": [
       "array([[0.39583837, 0.43424001, 0.46924315, 0.66683797],\n",
       "       [0.38681434, 0.98202085, 0.06270671, 0.15806536]])"
      ]
     },
     "execution_count": 39,
     "metadata": {},
     "output_type": "execute_result"
    }
   ],
   "source": [
    "np.random.random((2,4)) # случайные значение от [0,1]"
   ]
  },
  {
   "cell_type": "code",
   "execution_count": null,
   "id": "698ec459-dc3c-4535-96f0-270c7ec1397c",
   "metadata": {},
   "outputs": [
    {
     "data": {
      "text/plain": [
       "array([[0.5488135 , 0.71518937, 0.60276338, 0.54488318],\n",
       "       [0.4236548 , 0.64589411, 0.43758721, 0.891773  ]])"
      ]
     },
     "execution_count": 41,
     "metadata": {},
     "output_type": "execute_result"
    }
   ],
   "source": [
    "np.random.seed(0) # обьязательно задавать в той же ячейке\n",
    "np.random.random((2,4))"
   ]
  },
  {
   "cell_type": "code",
   "execution_count": 43,
   "id": "59bd8944-9364-4e0a-891b-67eb48021539",
   "metadata": {
    "tags": []
   },
   "outputs": [
    {
     "data": {
      "text/plain": [
       "array([[18, 11, 16, 17],\n",
       "       [17, 18, 11, 15]])"
      ]
     },
     "execution_count": 43,
     "metadata": {},
     "output_type": "execute_result"
    }
   ],
   "source": [
    "np.random.randint(10,20,size=(2,4)) # случайные целые числа с диапазона"
   ]
  },
  {
   "cell_type": "code",
   "execution_count": 44,
   "id": "d3dffdbc-d303-4791-b1a0-91c5c1f34fbc",
   "metadata": {
    "tags": []
   },
   "outputs": [
    {
     "data": {
      "text/plain": [
       "array([[18.36078764, 13.3739616 , 16.48171872, 13.6824154 ],\n",
       "       [19.57155159, 11.4035078 , 18.70087258, 14.73608045]])"
      ]
     },
     "execution_count": 44,
     "metadata": {},
     "output_type": "execute_result"
    }
   ],
   "source": [
    "# uniform distribution — вероятность генерации любого числа в этом диапазоне — одинакова \n",
    "\n",
    "np.random.uniform(10,20,size=(2,4)) # случайные числа с диапазона"
   ]
  },
  {
   "cell_type": "code",
   "execution_count": 47,
   "id": "7f140088-53e9-4447-bfec-43602c59aac1",
   "metadata": {
    "tags": []
   },
   "outputs": [
    {
     "data": {
      "text/plain": [
       "array([['1', 'b', 'b', '3'],\n",
       "       ['1', '1', 'b', '1']], dtype='<U21')"
      ]
     },
     "execution_count": 47,
     "metadata": {},
     "output_type": "execute_result"
    }
   ],
   "source": [
    "# выбор случайного елемента с массива\n",
    "\n",
    "np.random.choice(np.array([1,'b',3]),size=(2,4))"
   ]
  },
  {
   "cell_type": "markdown",
   "id": "5755aec4-960f-429e-b797-5e8fed69cd56",
   "metadata": {
    "tags": []
   },
   "source": [
    "## Arange"
   ]
  },
  {
   "cell_type": "code",
   "execution_count": 48,
   "id": "4f04d26d-763a-47d8-a85e-2bafef430826",
   "metadata": {
    "tags": []
   },
   "outputs": [
    {
     "data": {
      "text/plain": [
       "array([0, 1, 2, 3, 4, 5, 6, 7, 8, 9])"
      ]
     },
     "execution_count": 48,
     "metadata": {},
     "output_type": "execute_result"
    }
   ],
   "source": [
    "# возращает новый массив с одинаково распределенными значениями по определеному интервалуъ\n",
    "# шаг по умолчанию 1\n",
    "np.arange(10)"
   ]
  },
  {
   "cell_type": "code",
   "execution_count": 49,
   "id": "826651bf-cda4-4474-99a8-3d78a1a26bfe",
   "metadata": {
    "tags": []
   },
   "outputs": [
    {
     "data": {
      "text/plain": [
       "array([15, 18, 21, 24])"
      ]
     },
     "execution_count": 49,
     "metadata": {},
     "output_type": "execute_result"
    }
   ],
   "source": [
    "np.arange(15,25,3) #start,stop,step"
   ]
  },
  {
   "cell_type": "markdown",
   "id": "097c2b0a-dc78-41bd-86f5-ea58db7286f4",
   "metadata": {},
   "source": [
    "## Reshape"
   ]
  },
  {
   "cell_type": "code",
   "execution_count": 53,
   "id": "a70de2e2-5b05-4f89-801a-5278dbd00550",
   "metadata": {
    "tags": []
   },
   "outputs": [
    {
     "data": {
      "text/plain": [
       "array([[ 0,  1,  2,  3,  4,  5,  6,  7,  8,  9],\n",
       "       [10, 11, 12, 13, 14, 15, 16, 17, 18, 19]])"
      ]
     },
     "execution_count": 53,
     "metadata": {},
     "output_type": "execute_result"
    }
   ],
   "source": [
    "# модифицирует одномерный массив в двумерный\n",
    "# меняет размерность массива\n",
    "\n",
    "np.arange(20).reshape((2,10))"
   ]
  },
  {
   "cell_type": "code",
   "execution_count": 54,
   "id": "ddb61d34-90e6-4084-8d2f-890e9b25c978",
   "metadata": {
    "tags": []
   },
   "outputs": [
    {
     "data": {
      "text/plain": [
       "array([0.6818203 , 0.3595079 , 0.43703195, 0.6976312 , 0.06022547,\n",
       "       0.66676672, 0.67063787, 0.21038256, 0.1289263 , 0.31542835])"
      ]
     },
     "execution_count": 54,
     "metadata": {},
     "output_type": "execute_result"
    }
   ],
   "source": [
    "np.random.random((10,))"
   ]
  },
  {
   "cell_type": "code",
   "execution_count": 55,
   "id": "baf31573-3e9b-4e65-a9c8-b76d0d3e4308",
   "metadata": {
    "tags": []
   },
   "outputs": [
    {
     "data": {
      "text/plain": [
       "array([[0.36371077, 0.57019677, 0.43860151, 0.98837384, 0.10204481],\n",
       "       [0.20887676, 0.16130952, 0.65310833, 0.2532916 , 0.46631077]])"
      ]
     },
     "execution_count": 55,
     "metadata": {},
     "output_type": "execute_result"
    }
   ],
   "source": [
    "np.random.random((10,)).reshape((2,5))"
   ]
  },
  {
   "cell_type": "markdown",
   "id": "efdea46e-017c-477c-ac6d-15c32531c981",
   "metadata": {},
   "source": [
    "## Flatten"
   ]
  },
  {
   "cell_type": "code",
   "execution_count": 56,
   "id": "8fdbf93d-5b6f-4e92-85e5-eaef5d71471c",
   "metadata": {
    "tags": []
   },
   "outputs": [
    {
     "data": {
      "text/plain": [
       "array([[[53, 76, 73],\n",
       "        [65, 63, 71],\n",
       "        [71, 66, 67],\n",
       "        [55, 59, 53]],\n",
       "\n",
       "       [[50, 55, 50],\n",
       "        [67, 68, 54],\n",
       "        [52, 66, 79],\n",
       "        [53, 52, 60]],\n",
       "\n",
       "       [[63, 66, 57],\n",
       "        [71, 59, 50],\n",
       "        [60, 68, 61],\n",
       "        [76, 73, 77]],\n",
       "\n",
       "       [[52, 75, 52],\n",
       "        [53, 77, 53],\n",
       "        [68, 64, 53],\n",
       "        [70, 67, 68]]])"
      ]
     },
     "execution_count": 56,
     "metadata": {},
     "output_type": "execute_result"
    }
   ],
   "source": [
    "# трансформация массива любой размерности в одномерный\n",
    "\n",
    "np.random.randint(50,80,(4,4,3))"
   ]
  },
  {
   "cell_type": "code",
   "execution_count": 57,
   "id": "87a90d70-c8a2-4bd5-b47d-94d81b4e4db3",
   "metadata": {
    "tags": []
   },
   "outputs": [
    {
     "data": {
      "text/plain": [
       "array([77, 64, 59, 76, 51, 54, 60, 72, 61, 58, 61, 52, 69, 66, 50, 72, 50,\n",
       "       56, 69, 64, 60, 69, 74, 78, 58, 63, 74, 79, 52, 53, 52, 61, 63, 66,\n",
       "       58, 58, 69, 58, 76, 52, 74, 70, 53, 62, 79, 64, 50, 54])"
      ]
     },
     "execution_count": 57,
     "metadata": {},
     "output_type": "execute_result"
    }
   ],
   "source": [
    "np.random.randint(50,80,(4,4,3)).flatten()"
   ]
  },
  {
   "cell_type": "markdown",
   "id": "e12f87fb-fc1e-4e3a-b2fd-4ebdad64531d",
   "metadata": {},
   "source": [
    "## Split"
   ]
  },
  {
   "cell_type": "code",
   "execution_count": 5,
   "id": "fb149a3c-5639-4338-ba07-bda94202d9cf",
   "metadata": {
    "tags": []
   },
   "outputs": [
    {
     "ename": "ValueError",
     "evalue": "array split does not result in an equal division",
     "output_type": "error",
     "traceback": [
      "\u001b[0;31m---------------------------------------------------------------------------\u001b[0m",
      "\u001b[0;31mValueError\u001b[0m                                Traceback (most recent call last)",
      "Cell \u001b[0;32mIn[5], line 2\u001b[0m\n\u001b[1;32m      1\u001b[0m \u001b[38;5;66;03m# split разбывает массив на несколько подмассивов\u001b[39;00m\n\u001b[0;32m----> 2\u001b[0m np\u001b[38;5;241m.\u001b[39msplit(np\u001b[38;5;241m.\u001b[39mrandom\u001b[38;5;241m.\u001b[39mrandom((\u001b[38;5;241m9\u001b[39m,)), \u001b[38;5;241m4\u001b[39m)\n",
      "File \u001b[0;32m<__array_function__ internals>:200\u001b[0m, in \u001b[0;36msplit\u001b[0;34m(*args, **kwargs)\u001b[0m\n",
      "File \u001b[0;32m~/anaconda3/lib/python3.11/site-packages/numpy/lib/shape_base.py:872\u001b[0m, in \u001b[0;36msplit\u001b[0;34m(ary, indices_or_sections, axis)\u001b[0m\n\u001b[1;32m    870\u001b[0m     N \u001b[38;5;241m=\u001b[39m ary\u001b[38;5;241m.\u001b[39mshape[axis]\n\u001b[1;32m    871\u001b[0m     \u001b[38;5;28;01mif\u001b[39;00m N \u001b[38;5;241m%\u001b[39m sections:\n\u001b[0;32m--> 872\u001b[0m         \u001b[38;5;28;01mraise\u001b[39;00m \u001b[38;5;167;01mValueError\u001b[39;00m(\n\u001b[1;32m    873\u001b[0m             \u001b[38;5;124m'\u001b[39m\u001b[38;5;124marray split does not result in an equal division\u001b[39m\u001b[38;5;124m'\u001b[39m) \u001b[38;5;28;01mfrom\u001b[39;00m \u001b[38;5;28;01mNone\u001b[39;00m\n\u001b[1;32m    874\u001b[0m \u001b[38;5;28;01mreturn\u001b[39;00m array_split(ary, indices_or_sections, axis)\n",
      "\u001b[0;31mValueError\u001b[0m: array split does not result in an equal division"
     ]
    }
   ],
   "source": [
    "# split разбывает массив на несколько подмассивов\n",
    "np.split(np.random.random((9,)), 4)"
   ]
  },
  {
   "cell_type": "code",
   "execution_count": 7,
   "id": "179df530-4520-4c8e-aa03-2a934caff319",
   "metadata": {
    "tags": []
   },
   "outputs": [],
   "source": [
    "batches = np.split(np.random.random((8,)), 4)"
   ]
  },
  {
   "cell_type": "code",
   "execution_count": 13,
   "id": "40541317-ad96-4706-b620-e1e2eea90edf",
   "metadata": {
    "tags": []
   },
   "outputs": [
    {
     "name": "stdout",
     "output_type": "stream",
     "text": [
      "batch number: 0\n",
      "first element: 0.271692244624942\n",
      "second element: 0.2771051036160369\n",
      "\n",
      "batch number: 1\n",
      "first element: 0.08678046916745563\n",
      "second element: 0.09808444802145455\n",
      "\n",
      "batch number: 2\n",
      "first element: 0.8452039048308361\n",
      "second element: 0.38297135916856095\n",
      "\n",
      "batch number: 3\n",
      "first element: 0.5261106059547831\n",
      "second element: 0.847226779428755\n",
      "\n"
     ]
    }
   ],
   "source": [
    "# enumerate возращает последовательность кортежей\n",
    "\n",
    "for i, batch in enumerate(batches):\n",
    "    print(\"batch number:\", i)\n",
    "    print(\"first element:\", batch[0])\n",
    "    print(\"second element:\", batch[1])\n",
    "    print(\"\")"
   ]
  },
  {
   "cell_type": "code",
   "execution_count": 14,
   "id": "17b7e462-2397-4864-8fcf-b339024633ed",
   "metadata": {
    "tags": []
   },
   "outputs": [
    {
     "data": {
      "text/plain": [
       "array([0.88576125, 0.46237999, 0.24535398, 0.34687199, 0.64178531,\n",
       "       0.39935316, 0.57331851, 0.52071374, 0.99188536, 0.28837011])"
      ]
     },
     "execution_count": 14,
     "metadata": {},
     "output_type": "execute_result"
    }
   ],
   "source": [
    "new_arr = np.random.random((10,))\n",
    "new_arr"
   ]
  },
  {
   "cell_type": "code",
   "execution_count": 16,
   "id": "7e6eddf6-eb7f-430e-8a30-54ae0af274a4",
   "metadata": {
    "tags": []
   },
   "outputs": [
    {
     "data": {
      "text/plain": [
       "array([0.88576125, 0.64178531, 0.57331851, 0.52071374, 0.99188536])"
      ]
     },
     "execution_count": 16,
     "metadata": {},
     "output_type": "execute_result"
    }
   ],
   "source": [
    "new_arr[new_arr > 0.5]"
   ]
  },
  {
   "cell_type": "code",
   "execution_count": null,
   "id": "57aba963-7a14-44d4-a944-c199b45396b3",
   "metadata": {},
   "outputs": [],
   "source": []
  }
 ],
 "metadata": {
  "kernelspec": {
   "display_name": "Python 3 (ipykernel)",
   "language": "python",
   "name": "python3"
  },
  "language_info": {
   "codemirror_mode": {
    "name": "ipython",
    "version": 3
   },
   "file_extension": ".py",
   "mimetype": "text/x-python",
   "name": "python",
   "nbconvert_exporter": "python",
   "pygments_lexer": "ipython3",
   "version": "3.11.5"
  }
 },
 "nbformat": 4,
 "nbformat_minor": 5
}
